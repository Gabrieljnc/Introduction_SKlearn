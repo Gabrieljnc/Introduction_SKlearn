{
 "cells": [
  {
   "cell_type": "code",
   "execution_count": 1,
   "metadata": {},
   "outputs": [],
   "source": [
    "# Libraries\n",
    "\n",
    "import pandas as pd \n",
    "import numpy as np\n",
    "from datetime import datetime\n",
    "\n",
    "from sklearn.svm import LinearSVC\n",
    "from sklearn.svm import SVC\n",
    "from sklearn.metrics import accuracy_score\n",
    "from sklearn.model_selection import train_test_split\n",
    "from sklearn.preprocessing import StandardScaler"
   ]
  },
  {
   "cell_type": "code",
   "execution_count": 2,
   "metadata": {},
   "outputs": [],
   "source": [
    "# Reading CSV\n",
    "\n",
    "data = pd.read_csv('car_prices.csv')"
   ]
  },
  {
   "cell_type": "code",
   "execution_count": 3,
   "metadata": {},
   "outputs": [
    {
     "data": {
      "text/html": [
       "<div>\n",
       "<style scoped>\n",
       "    .dataframe tbody tr th:only-of-type {\n",
       "        vertical-align: middle;\n",
       "    }\n",
       "\n",
       "    .dataframe tbody tr th {\n",
       "        vertical-align: top;\n",
       "    }\n",
       "\n",
       "    .dataframe thead th {\n",
       "        text-align: right;\n",
       "    }\n",
       "</style>\n",
       "<table border=\"1\" class=\"dataframe\">\n",
       "  <thead>\n",
       "    <tr style=\"text-align: right;\">\n",
       "      <th></th>\n",
       "      <th>Unnamed: 0</th>\n",
       "      <th>mileage_per_year</th>\n",
       "      <th>model_year</th>\n",
       "      <th>price</th>\n",
       "      <th>sold</th>\n",
       "    </tr>\n",
       "  </thead>\n",
       "  <tbody>\n",
       "    <tr>\n",
       "      <th>0</th>\n",
       "      <td>0</td>\n",
       "      <td>21801</td>\n",
       "      <td>2000</td>\n",
       "      <td>30941.02</td>\n",
       "      <td>yes</td>\n",
       "    </tr>\n",
       "    <tr>\n",
       "      <th>1</th>\n",
       "      <td>1</td>\n",
       "      <td>7843</td>\n",
       "      <td>1998</td>\n",
       "      <td>40557.96</td>\n",
       "      <td>yes</td>\n",
       "    </tr>\n",
       "    <tr>\n",
       "      <th>2</th>\n",
       "      <td>2</td>\n",
       "      <td>7109</td>\n",
       "      <td>2006</td>\n",
       "      <td>89627.50</td>\n",
       "      <td>no</td>\n",
       "    </tr>\n",
       "    <tr>\n",
       "      <th>3</th>\n",
       "      <td>3</td>\n",
       "      <td>26823</td>\n",
       "      <td>2015</td>\n",
       "      <td>95276.14</td>\n",
       "      <td>no</td>\n",
       "    </tr>\n",
       "    <tr>\n",
       "      <th>4</th>\n",
       "      <td>4</td>\n",
       "      <td>7935</td>\n",
       "      <td>2014</td>\n",
       "      <td>117384.68</td>\n",
       "      <td>yes</td>\n",
       "    </tr>\n",
       "  </tbody>\n",
       "</table>\n",
       "</div>"
      ],
      "text/plain": [
       "   Unnamed: 0  mileage_per_year  model_year      price sold\n",
       "0           0             21801        2000   30941.02  yes\n",
       "1           1              7843        1998   40557.96  yes\n",
       "2           2              7109        2006   89627.50   no\n",
       "3           3             26823        2015   95276.14   no\n",
       "4           4              7935        2014  117384.68  yes"
      ]
     },
     "execution_count": 3,
     "metadata": {},
     "output_type": "execute_result"
    }
   ],
   "source": [
    "data.head()"
   ]
  },
  {
   "cell_type": "code",
   "execution_count": 4,
   "metadata": {},
   "outputs": [],
   "source": [
    "data.drop(columns = 'Unnamed: 0', inplace = True)"
   ]
  },
  {
   "cell_type": "code",
   "execution_count": 5,
   "metadata": {},
   "outputs": [],
   "source": [
    "# Creating column to use km instead miles\n",
    "\n",
    "data['km_per_year'] = data['mileage_per_year'] * 1.60934"
   ]
  },
  {
   "cell_type": "code",
   "execution_count": 6,
   "metadata": {},
   "outputs": [],
   "source": [
    "current_year = datetime.today().year\n",
    "\n",
    "# Creating column 'age_car': the difference between current_year and model_year\n",
    "data['age_car'] = current_year - data['model_year']"
   ]
  },
  {
   "cell_type": "code",
   "execution_count": 7,
   "metadata": {},
   "outputs": [],
   "source": [
    "sold_content = {\n",
    "    'no': 0,\n",
    "    'yes':1\n",
    "}\n",
    "data['sold'] = data['sold'].map(sold_content)"
   ]
  },
  {
   "cell_type": "code",
   "execution_count": 8,
   "metadata": {},
   "outputs": [
    {
     "data": {
      "text/html": [
       "<div>\n",
       "<style scoped>\n",
       "    .dataframe tbody tr th:only-of-type {\n",
       "        vertical-align: middle;\n",
       "    }\n",
       "\n",
       "    .dataframe tbody tr th {\n",
       "        vertical-align: top;\n",
       "    }\n",
       "\n",
       "    .dataframe thead th {\n",
       "        text-align: right;\n",
       "    }\n",
       "</style>\n",
       "<table border=\"1\" class=\"dataframe\">\n",
       "  <thead>\n",
       "    <tr style=\"text-align: right;\">\n",
       "      <th></th>\n",
       "      <th>mileage_per_year</th>\n",
       "      <th>model_year</th>\n",
       "      <th>price</th>\n",
       "      <th>sold</th>\n",
       "      <th>km_per_year</th>\n",
       "      <th>age_car</th>\n",
       "    </tr>\n",
       "  </thead>\n",
       "  <tbody>\n",
       "    <tr>\n",
       "      <th>0</th>\n",
       "      <td>21801</td>\n",
       "      <td>2000</td>\n",
       "      <td>30941.02</td>\n",
       "      <td>1</td>\n",
       "      <td>35085.22134</td>\n",
       "      <td>21</td>\n",
       "    </tr>\n",
       "    <tr>\n",
       "      <th>1</th>\n",
       "      <td>7843</td>\n",
       "      <td>1998</td>\n",
       "      <td>40557.96</td>\n",
       "      <td>1</td>\n",
       "      <td>12622.05362</td>\n",
       "      <td>23</td>\n",
       "    </tr>\n",
       "    <tr>\n",
       "      <th>2</th>\n",
       "      <td>7109</td>\n",
       "      <td>2006</td>\n",
       "      <td>89627.50</td>\n",
       "      <td>0</td>\n",
       "      <td>11440.79806</td>\n",
       "      <td>15</td>\n",
       "    </tr>\n",
       "    <tr>\n",
       "      <th>3</th>\n",
       "      <td>26823</td>\n",
       "      <td>2015</td>\n",
       "      <td>95276.14</td>\n",
       "      <td>0</td>\n",
       "      <td>43167.32682</td>\n",
       "      <td>6</td>\n",
       "    </tr>\n",
       "    <tr>\n",
       "      <th>4</th>\n",
       "      <td>7935</td>\n",
       "      <td>2014</td>\n",
       "      <td>117384.68</td>\n",
       "      <td>1</td>\n",
       "      <td>12770.11290</td>\n",
       "      <td>7</td>\n",
       "    </tr>\n",
       "  </tbody>\n",
       "</table>\n",
       "</div>"
      ],
      "text/plain": [
       "   mileage_per_year  model_year      price  sold  km_per_year  age_car\n",
       "0             21801        2000   30941.02     1  35085.22134       21\n",
       "1              7843        1998   40557.96     1  12622.05362       23\n",
       "2              7109        2006   89627.50     0  11440.79806       15\n",
       "3             26823        2015   95276.14     0  43167.32682        6\n",
       "4              7935        2014  117384.68     1  12770.11290        7"
      ]
     },
     "execution_count": 8,
     "metadata": {},
     "output_type": "execute_result"
    }
   ],
   "source": [
    "data.head()"
   ]
  },
  {
   "cell_type": "code",
   "execution_count": 9,
   "metadata": {},
   "outputs": [],
   "source": [
    "columnsTitles = ['mileage_per_year', 'km_per_year', 'model_year', 'age_car', 'price','sold' ]\n",
    "data = data.reindex(columns=columnsTitles)"
   ]
  },
  {
   "cell_type": "code",
   "execution_count": 10,
   "metadata": {},
   "outputs": [
    {
     "data": {
      "text/html": [
       "<div>\n",
       "<style scoped>\n",
       "    .dataframe tbody tr th:only-of-type {\n",
       "        vertical-align: middle;\n",
       "    }\n",
       "\n",
       "    .dataframe tbody tr th {\n",
       "        vertical-align: top;\n",
       "    }\n",
       "\n",
       "    .dataframe thead th {\n",
       "        text-align: right;\n",
       "    }\n",
       "</style>\n",
       "<table border=\"1\" class=\"dataframe\">\n",
       "  <thead>\n",
       "    <tr style=\"text-align: right;\">\n",
       "      <th></th>\n",
       "      <th>mileage_per_year</th>\n",
       "      <th>km_per_year</th>\n",
       "      <th>model_year</th>\n",
       "      <th>age_car</th>\n",
       "      <th>price</th>\n",
       "      <th>sold</th>\n",
       "    </tr>\n",
       "  </thead>\n",
       "  <tbody>\n",
       "    <tr>\n",
       "      <th>0</th>\n",
       "      <td>21801</td>\n",
       "      <td>35085.22134</td>\n",
       "      <td>2000</td>\n",
       "      <td>21</td>\n",
       "      <td>30941.02</td>\n",
       "      <td>1</td>\n",
       "    </tr>\n",
       "    <tr>\n",
       "      <th>1</th>\n",
       "      <td>7843</td>\n",
       "      <td>12622.05362</td>\n",
       "      <td>1998</td>\n",
       "      <td>23</td>\n",
       "      <td>40557.96</td>\n",
       "      <td>1</td>\n",
       "    </tr>\n",
       "    <tr>\n",
       "      <th>2</th>\n",
       "      <td>7109</td>\n",
       "      <td>11440.79806</td>\n",
       "      <td>2006</td>\n",
       "      <td>15</td>\n",
       "      <td>89627.50</td>\n",
       "      <td>0</td>\n",
       "    </tr>\n",
       "    <tr>\n",
       "      <th>3</th>\n",
       "      <td>26823</td>\n",
       "      <td>43167.32682</td>\n",
       "      <td>2015</td>\n",
       "      <td>6</td>\n",
       "      <td>95276.14</td>\n",
       "      <td>0</td>\n",
       "    </tr>\n",
       "    <tr>\n",
       "      <th>4</th>\n",
       "      <td>7935</td>\n",
       "      <td>12770.11290</td>\n",
       "      <td>2014</td>\n",
       "      <td>7</td>\n",
       "      <td>117384.68</td>\n",
       "      <td>1</td>\n",
       "    </tr>\n",
       "  </tbody>\n",
       "</table>\n",
       "</div>"
      ],
      "text/plain": [
       "   mileage_per_year  km_per_year  model_year  age_car      price  sold\n",
       "0             21801  35085.22134        2000       21   30941.02     1\n",
       "1              7843  12622.05362        1998       23   40557.96     1\n",
       "2              7109  11440.79806        2006       15   89627.50     0\n",
       "3             26823  43167.32682        2015        6   95276.14     0\n",
       "4              7935  12770.11290        2014        7  117384.68     1"
      ]
     },
     "execution_count": 10,
     "metadata": {},
     "output_type": "execute_result"
    }
   ],
   "source": [
    "data.head()"
   ]
  },
  {
   "cell_type": "code",
   "execution_count": 11,
   "metadata": {},
   "outputs": [],
   "source": [
    "x = data[['km_per_year', 'age_car', 'price']]\n",
    "y = data['sold']"
   ]
  },
  {
   "cell_type": "code",
   "execution_count": 12,
   "metadata": {},
   "outputs": [
    {
     "name": "stdout",
     "output_type": "stream",
     "text": [
      "Training with 7500 elements and testing with 2500 elements\n",
      "The accuracy is  65.40 %\n"
     ]
    }
   ],
   "source": [
    "# Defining the random state\n",
    "seed = 5\n",
    "np.random.seed(seed)\n",
    "\n",
    "# Train test split \n",
    "x_train, x_test, y_train, y_test = train_test_split(x, y, stratify = y, test_size = 0.25)\n",
    "print(f'Training with {len(x_train)} elements and testing with {len(x_test)} elements')\n",
    "\n",
    "# Linear SVC model\n",
    "model = LinearSVC(dual = False) # Using dual cause n_samples > n_features.\n",
    "model.fit(x_train, y_train) \n",
    "predict = model.predict(x_test) \n",
    "\n",
    "# Accuracy\n",
    "accuracy = accuracy_score(y_test, predict) * 100\n",
    "print(f'The accuracy is {accuracy : .2f} %')"
   ]
  },
  {
   "cell_type": "code",
   "execution_count": 13,
   "metadata": {},
   "outputs": [
    {
     "name": "stdout",
     "output_type": "stream",
     "text": [
      "The dummy(stratified) accuracy is  52.44 %\n"
     ]
    }
   ],
   "source": [
    "from sklearn.dummy import DummyClassifier\n",
    "\n",
    "dummy_stratified = DummyClassifier(strategy='stratified')\n",
    "\n",
    "dummy_stratified.fit(x_train, y_train) \n",
    "accuracy = dummy_stratified.score(x_test, y_test) * 100\n",
    "\n",
    "print(f'The dummy(stratified) accuracy is {accuracy : .2f} %')"
   ]
  },
  {
   "cell_type": "code",
   "execution_count": 14,
   "metadata": {},
   "outputs": [
    {
     "name": "stdout",
     "output_type": "stream",
     "text": [
      "The dummy (most_frequent) accuracy is  58.00 %\n"
     ]
    }
   ],
   "source": [
    "dummy_most_frequent = DummyClassifier(strategy='most_frequent')\n",
    "\n",
    "dummy_most_frequent.fit(x_train, y_train) \n",
    "accuracy = dummy_most_frequent.score(x_test,y_test) * 100\n",
    "\n",
    "print(f'The dummy (most_frequent) accuracy is {accuracy : .2f} %')"
   ]
  },
  {
   "cell_type": "code",
   "execution_count": 15,
   "metadata": {},
   "outputs": [
    {
     "name": "stdout",
     "output_type": "stream",
     "text": [
      "Training with 7500 elements and testing with 2500 elements\n",
      "The accuracy using Standard Scale is 77.48%\n"
     ]
    }
   ],
   "source": [
    "SEED = 5\n",
    "np.random.seed(SEED)\n",
    "raw_x_train, raw_x_test, y_train, y_test = train_test_split(x, y, test_size = 0.25, stratify = y)\n",
    "print(f'Training with {len(raw_x_train)} elements and testing with {len(raw_x_test)} elements')\n",
    "\n",
    "# Standard Scaler\n",
    "# Obs: Changing the scales (x and y ------- (x ---> (0,100) and y ---> (0,30000))\n",
    "\n",
    "scaler = StandardScaler()\n",
    "scaler.fit(raw_x_train)                  # Train using raw_x_train\n",
    "x_train = scaler.transform(raw_x_train)  # transform in a new x_train with the new scale\n",
    "x_test = scaler.transform(raw_x_test)    # transform in a new x_test with the new scale\n",
    "\n",
    "model = SVC()\n",
    "model.fit(x_train, y_train)\n",
    "predict_ss = model.predict(x_test)\n",
    "\n",
    "accuracy_ss = accuracy_score(y_test, predict_ss) * 100\n",
    "print(\"The accuracy using Standard Scale is %.2f%%\" % accuracy_ss)"
   ]
  },
  {
   "cell_type": "code",
   "execution_count": 16,
   "metadata": {},
   "outputs": [
    {
     "data": {
      "text/plain": [
       "\"o standard scale vai tirar a media, vai deslocarr todo mundo pela média e dividir pelo desvio padrão\\n\\nsão algoritmos blackbox não da para entender como estão sendo tomada as decisões\\n\\ndecisão = 'se a o km for menor que x entao..., se o ano do carro for maior que x entao '\\n\\n\""
      ]
     },
     "execution_count": 16,
     "metadata": {},
     "output_type": "execute_result"
    }
   ],
   "source": [
    "'''o standard scale vai tirar a media, vai deslocarr todo mundo pela média e dividir pelo desvio padrão\n",
    "\n",
    "são algoritmos blackbox não da para entender como estão sendo tomada as decisões\n",
    "\n",
    "decisão = 'se a o km for menor que x entao..., se o ano do carro for maior que x entao '\n",
    "\n",
    "'''"
   ]
  }
 ],
 "metadata": {
  "kernelspec": {
   "display_name": "Python 3",
   "language": "python",
   "name": "python3"
  },
  "language_info": {
   "codemirror_mode": {
    "name": "ipython",
    "version": 3
   },
   "file_extension": ".py",
   "mimetype": "text/x-python",
   "name": "python",
   "nbconvert_exporter": "python",
   "pygments_lexer": "ipython3",
   "version": "3.8.5"
  }
 },
 "nbformat": 4,
 "nbformat_minor": 4
}
