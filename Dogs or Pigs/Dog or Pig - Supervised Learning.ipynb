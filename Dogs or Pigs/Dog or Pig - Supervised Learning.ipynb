{
 "cells": [
  {
   "cell_type": "code",
   "execution_count": 1,
   "metadata": {},
   "outputs": [],
   "source": [
    "# Dog = 0  \n",
    "# Pig = 1\n",
    "\n",
    "# Aprendizado supervisionado: baseado nas experiencias que foram treinadas na nossa mente e o que foi nos ensinado\n",
    "# quanto mais features melhor fica pra treinar .. [' Quanto mais você conhecer sobre porcos mais você vai saber o que é um porco']\n",
    "\n",
    "\n",
    "# 1 = SIM   ///  0 = NÃO\n",
    "# 1 = PIG   ///  0 = DOG\n",
    "\n",
    "# ______________________________Features__________________________Classificação\n",
    "\n",
    "# Pêlo longo ------ Perna curta --------- Faz 'auau'-------------- Dog or Pig"
   ]
  },
  {
   "cell_type": "code",
   "execution_count": 2,
   "metadata": {},
   "outputs": [],
   "source": [
    "pig_1 = [0, 1, 0]\n",
    "pig_2 = [0, 1, 1]\n",
    "pig_3 = [1, 1, 0]\n",
    "\n",
    "dog_1 = [0, 1, 1]\n",
    "dog_2 = [1, 0, 1]\n",
    "dog_3 = [1, 1, 1]\n",
    "\n",
    "# Pig = 1 ______ Dog = 2\n",
    "\n",
    "train_x = [pig_1, pig_2, pig_3, dog_1, dog_2, dog_3]\n",
    "train_y = [1, 1, 1, 0, 0, 0] # label / classificação"
   ]
  },
  {
   "cell_type": "code",
   "execution_count": 3,
   "metadata": {},
   "outputs": [],
   "source": [
    "from sklearn.svm import LinearSVC"
   ]
  },
  {
   "cell_type": "code",
   "execution_count": 4,
   "metadata": {},
   "outputs": [
    {
     "data": {
      "text/plain": [
       "LinearSVC()"
      ]
     },
     "execution_count": 4,
     "metadata": {},
     "output_type": "execute_result"
    }
   ],
   "source": [
    "model = LinearSVC()\n",
    "model.fit(train_x, train_y) # Modelo aprende com os dados que eu tenho aqui"
   ]
  },
  {
   "cell_type": "code",
   "execution_count": 5,
   "metadata": {},
   "outputs": [
    {
     "name": "stdout",
     "output_type": "stream",
     "text": [
      "[0]\n",
      "it's a dog\n"
     ]
    }
   ],
   "source": [
    "misterious_animal = [1, 1, 1]\n",
    "print(model.predict([misterious_animal ]))\n",
    "print('it\\'s a dog')"
   ]
  },
  {
   "cell_type": "code",
   "execution_count": 6,
   "metadata": {},
   "outputs": [],
   "source": [
    "misterious_animal_1 = [1, 1, 1]\n",
    "misterious_animal_2 = [1, 1, 0]\n",
    "misterious_animal_3 = [0, 1, 1]"
   ]
  },
  {
   "cell_type": "code",
   "execution_count": 7,
   "metadata": {},
   "outputs": [
    {
     "name": "stdout",
     "output_type": "stream",
     "text": [
      "[0 1 0]\n",
      "DOG, PIG, DOG\n"
     ]
    }
   ],
   "source": [
    "test_x = [misterious_animal_1, misterious_animal_2, misterious_animal_3]\n",
    "test_y = [0, 1, 1] # labels / classificação\n",
    "predict = model.predict(test_x)\n",
    "print(predict)\n",
    "print('DOG, PIG, DOG') \n",
    "\n",
    "# With the result we know that it made a mistake \n",
    "#   labels _______________What the algorithm predict\n",
    "#  [0, 1, 1] ________________ [0, 1, 0]"
   ]
  },
  {
   "cell_type": "code",
   "execution_count": 8,
   "metadata": {},
   "outputs": [
    {
     "data": {
      "text/plain": [
       "array([ True,  True, False])"
      ]
     },
     "execution_count": 8,
     "metadata": {},
     "output_type": "execute_result"
    }
   ],
   "source": [
    "# Comparação\n",
    "\n",
    "predict == test_y"
   ]
  },
  {
   "cell_type": "code",
   "execution_count": 9,
   "metadata": {},
   "outputs": [
    {
     "name": "stdout",
     "output_type": "stream",
     "text": [
      "The accuracy is: 66.67 %\n"
     ]
    }
   ],
   "source": [
    "correct = (predict == test_y).sum() # The result is the number of Trues\n",
    "total = len(test_x)\n",
    "\n",
    "accuracy_manual = (correct / total) * 100\n",
    "print(f'The accuracy is: {accuracy_manual:.2f} %')"
   ]
  },
  {
   "cell_type": "code",
   "execution_count": 10,
   "metadata": {},
   "outputs": [],
   "source": [
    "from sklearn.metrics import accuracy_score"
   ]
  },
  {
   "cell_type": "code",
   "execution_count": 11,
   "metadata": {},
   "outputs": [
    {
     "name": "stdout",
     "output_type": "stream",
     "text": [
      "The accuracy is: 66.67 %\n"
     ]
    }
   ],
   "source": [
    "accuracy = accuracy_score(test_y, predict)\n",
    "print(f'The accuracy is: {accuracy * 100 :.2f} %')"
   ]
  },
  {
   "cell_type": "code",
   "execution_count": null,
   "metadata": {},
   "outputs": [],
   "source": []
  }
 ],
 "metadata": {
  "kernelspec": {
   "display_name": "Python 3",
   "language": "python",
   "name": "python3"
  },
  "language_info": {
   "codemirror_mode": {
    "name": "ipython",
    "version": 3
   },
   "file_extension": ".py",
   "mimetype": "text/x-python",
   "name": "python",
   "nbconvert_exporter": "python",
   "pygments_lexer": "ipython3",
   "version": "3.8.5"
  }
 },
 "nbformat": 4,
 "nbformat_minor": 4
}
